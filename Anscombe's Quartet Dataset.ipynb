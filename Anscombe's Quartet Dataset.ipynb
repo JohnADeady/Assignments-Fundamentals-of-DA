{
 "cells": [
  {
   "cell_type": "markdown",
   "metadata": {},
   "source": [
    "# The Anscombe's Quartet Dataset"
   ]
  },
  {
   "cell_type": "markdown",
   "metadata": {},
   "source": [
    "The purpose of this Jupyter notebook is to analyse Anscombe's quartet datasets. There are four tasks to be carried out in this notebook:\n",
    "\n",
    "1. Explain the background to the dataset – who created it, when it was created, and any speculation you can ﬁnd regarding how it might have been created.\n",
    "2. Plot the interesting aspects of the dataset\n",
    "3. Calculate the descriptive statistics of the variables in the dataset. \n",
    "4. Explain why the dataset is interesting, referring to the plots and statistics above."
   ]
  },
  {
   "cell_type": "markdown",
   "metadata": {},
   "source": [
    "## Background"
   ]
  },
  {
   "cell_type": "markdown",
   "metadata": {},
   "source": [
    "The proverb “A picture is worth 1000 words” is one you have probably heard more than once. A picture can also be worth 1000 data points. [[Natalia]( http://natalia.dbsdataprojects.com/2016/02/29/anscombes-quartet/)]\n",
    "\n",
    "The Anscombe's Quartet Dataset was created by Francis John Anscombe. These were the subjects of a 1973 paper in “The American Statistician”. He wrote a paper about the importance of actually graphing your data, and not just depending on statistical analysis. \n",
    "\n",
    "He created four sets of XY data pairs, each with identical average X, average Y, variance in X and Y, mean X and Y, linear regression slope and intercept, and even correlation coefficients and RMSE values. In other words, these data sets seemed to be about the same—until they are graphed. [[Vernier](https://www.vernier.com/innovate/anscombes-quartet/)]\n",
    "\n",
    "While very popular and effective for illustrating the importance of visualizing your data, they have been around for nearly 45 years, and it is not known how Anscombe came up with his datasets [[Dozen]](https://www.autodeskresearch.com/publications/samestats)\n",
    "\n",
    "Graphs may not be as precise as statistics, but they provides a unique view onto data that can make it much easier to discover interesting structures than numerical methods. Graphs also provides the context necessary to make better choices and to be more careful when fitting models. Anscombe’s Quartet is a case in point, showing that four datasets that have identical statistical properties can indeed be very different [[Rstudio](https://rstudio-pubs-static.s3.amazonaws.com/52381_36ec82827e4b476fb968d9143aec7c4f.html)]"
   ]
  },
  {
   "cell_type": "markdown",
   "metadata": {},
   "source": [
    "<img src=\"https://upload.wikimedia.org/wikipedia/en/d/d5/Francis_Anscombe.jpeg\">"
   ]
  },
  {
   "cell_type": "markdown",
   "metadata": {},
   "source": [
    "## Plotting the Datasets"
   ]
  },
  {
   "cell_type": "markdown",
   "metadata": {},
   "source": [
    "We import all necessary libraries to analysis Anscombe's Quartet Dataset. These can be seen below:"
   ]
  },
  {
   "cell_type": "code",
   "execution_count": 22,
   "metadata": {
    "collapsed": true
   },
   "outputs": [],
   "source": [
    "# Import the necessary libraires for this notebook\n",
    "import pandas as pd # Data Manipulation\n",
    "import numpy as np # Summary Statistics\n",
    "import seaborn as sns # Plots\n",
    "import matplotlib.pyplot as plt # Plots\n",
    "from scipy import stats # Linear Regression"
   ]
  },
  {
   "cell_type": "markdown",
   "metadata": {},
   "source": [
    "We upload the Anscombe's Quartet Datasets from a excel csv file of the four datasets each containing 11 lines of two variables  X and Y. "
   ]
  },
  {
   "cell_type": "code",
   "execution_count": 26,
   "metadata": {},
   "outputs": [
    {
     "data": {
      "text/html": [
       "<div>\n",
       "<style>\n",
       "    .dataframe thead tr:only-child th {\n",
       "        text-align: right;\n",
       "    }\n",
       "\n",
       "    .dataframe thead th {\n",
       "        text-align: left;\n",
       "    }\n",
       "\n",
       "    .dataframe tbody tr th {\n",
       "        vertical-align: top;\n",
       "    }\n",
       "</style>\n",
       "<table border=\"1\" class=\"dataframe\">\n",
       "  <thead>\n",
       "    <tr style=\"text-align: right;\">\n",
       "      <th></th>\n",
       "      <th>x1</th>\n",
       "      <th>y1</th>\n",
       "      <th>x2</th>\n",
       "      <th>y2</th>\n",
       "      <th>x3</th>\n",
       "      <th>y3</th>\n",
       "      <th>x4</th>\n",
       "      <th>y4</th>\n",
       "    </tr>\n",
       "  </thead>\n",
       "  <tbody>\n",
       "    <tr>\n",
       "      <th>0</th>\n",
       "      <td>10</td>\n",
       "      <td>8.04</td>\n",
       "      <td>10</td>\n",
       "      <td>9.14</td>\n",
       "      <td>10</td>\n",
       "      <td>7.46</td>\n",
       "      <td>8</td>\n",
       "      <td>6.58</td>\n",
       "    </tr>\n",
       "    <tr>\n",
       "      <th>1</th>\n",
       "      <td>8</td>\n",
       "      <td>6.95</td>\n",
       "      <td>8</td>\n",
       "      <td>8.14</td>\n",
       "      <td>8</td>\n",
       "      <td>6.77</td>\n",
       "      <td>8</td>\n",
       "      <td>5.76</td>\n",
       "    </tr>\n",
       "    <tr>\n",
       "      <th>2</th>\n",
       "      <td>13</td>\n",
       "      <td>7.58</td>\n",
       "      <td>13</td>\n",
       "      <td>8.74</td>\n",
       "      <td>13</td>\n",
       "      <td>12.74</td>\n",
       "      <td>8</td>\n",
       "      <td>7.71</td>\n",
       "    </tr>\n",
       "    <tr>\n",
       "      <th>3</th>\n",
       "      <td>9</td>\n",
       "      <td>8.81</td>\n",
       "      <td>9</td>\n",
       "      <td>8.77</td>\n",
       "      <td>9</td>\n",
       "      <td>7.11</td>\n",
       "      <td>8</td>\n",
       "      <td>8.84</td>\n",
       "    </tr>\n",
       "    <tr>\n",
       "      <th>4</th>\n",
       "      <td>11</td>\n",
       "      <td>8.33</td>\n",
       "      <td>11</td>\n",
       "      <td>9.26</td>\n",
       "      <td>11</td>\n",
       "      <td>7.81</td>\n",
       "      <td>8</td>\n",
       "      <td>8.47</td>\n",
       "    </tr>\n",
       "    <tr>\n",
       "      <th>5</th>\n",
       "      <td>14</td>\n",
       "      <td>9.96</td>\n",
       "      <td>14</td>\n",
       "      <td>8.10</td>\n",
       "      <td>14</td>\n",
       "      <td>8.84</td>\n",
       "      <td>8</td>\n",
       "      <td>7.04</td>\n",
       "    </tr>\n",
       "    <tr>\n",
       "      <th>6</th>\n",
       "      <td>6</td>\n",
       "      <td>7.24</td>\n",
       "      <td>6</td>\n",
       "      <td>6.13</td>\n",
       "      <td>6</td>\n",
       "      <td>6.08</td>\n",
       "      <td>8</td>\n",
       "      <td>5.25</td>\n",
       "    </tr>\n",
       "    <tr>\n",
       "      <th>7</th>\n",
       "      <td>4</td>\n",
       "      <td>4.26</td>\n",
       "      <td>4</td>\n",
       "      <td>3.10</td>\n",
       "      <td>4</td>\n",
       "      <td>5.39</td>\n",
       "      <td>19</td>\n",
       "      <td>12.50</td>\n",
       "    </tr>\n",
       "    <tr>\n",
       "      <th>8</th>\n",
       "      <td>12</td>\n",
       "      <td>10.84</td>\n",
       "      <td>12</td>\n",
       "      <td>9.13</td>\n",
       "      <td>12</td>\n",
       "      <td>8.15</td>\n",
       "      <td>8</td>\n",
       "      <td>5.56</td>\n",
       "    </tr>\n",
       "    <tr>\n",
       "      <th>9</th>\n",
       "      <td>7</td>\n",
       "      <td>4.82</td>\n",
       "      <td>7</td>\n",
       "      <td>7.26</td>\n",
       "      <td>7</td>\n",
       "      <td>6.42</td>\n",
       "      <td>8</td>\n",
       "      <td>7.91</td>\n",
       "    </tr>\n",
       "    <tr>\n",
       "      <th>10</th>\n",
       "      <td>5</td>\n",
       "      <td>5.68</td>\n",
       "      <td>5</td>\n",
       "      <td>4.74</td>\n",
       "      <td>5</td>\n",
       "      <td>5.73</td>\n",
       "      <td>8</td>\n",
       "      <td>6.89</td>\n",
       "    </tr>\n",
       "  </tbody>\n",
       "</table>\n",
       "</div>"
      ],
      "text/plain": [
       "    x1     y1  x2    y2  x3     y3  x4     y4\n",
       "0   10   8.04  10  9.14  10   7.46   8   6.58\n",
       "1    8   6.95   8  8.14   8   6.77   8   5.76\n",
       "2   13   7.58  13  8.74  13  12.74   8   7.71\n",
       "3    9   8.81   9  8.77   9   7.11   8   8.84\n",
       "4   11   8.33  11  9.26  11   7.81   8   8.47\n",
       "5   14   9.96  14  8.10  14   8.84   8   7.04\n",
       "6    6   7.24   6  6.13   6   6.08   8   5.25\n",
       "7    4   4.26   4  3.10   4   5.39  19  12.50\n",
       "8   12  10.84  12  9.13  12   8.15   8   5.56\n",
       "9    7   4.82   7  7.26   7   6.42   8   7.91\n",
       "10   5   5.68   5  4.74   5   5.73   8   6.89"
      ]
     },
     "execution_count": 26,
     "metadata": {},
     "output_type": "execute_result"
    }
   ],
   "source": [
    "# load the example dataset for Anscombe's quartet\n",
    "df = pd.read_csv('anscombe.csv')\n",
    "df"
   ]
  },
  {
   "cell_type": "markdown",
   "metadata": {},
   "source": [
    "#### Mean of X and Y"
   ]
  },
  {
   "cell_type": "code",
   "execution_count": 27,
   "metadata": {},
   "outputs": [
    {
     "name": "stdout",
     "output_type": "stream",
     "text": [
      "Mean of X and Y\n",
      "x1    9.000\n",
      "y1    7.501\n",
      "x2    9.000\n",
      "y2    7.501\n",
      "x3    9.000\n",
      "y3    7.500\n",
      "x4    9.000\n",
      "y4    7.501\n",
      "dtype: float64\n"
     ]
    }
   ],
   "source": [
    "# Print the mean of X and Y to 3 decimal places using the round function in NumPy\n",
    "print(\"Mean of X and Y\")\n",
    "print(np.round(df.mean(), decimals=3))"
   ]
  },
  {
   "cell_type": "markdown",
   "metadata": {},
   "source": [
    "The mean of X is 9.00 for each dataset."
   ]
  },
  {
   "cell_type": "markdown",
   "metadata": {},
   "source": [
    "The mean of Y is 7.50 for each dataset."
   ]
  },
  {
   "cell_type": "code",
   "execution_count": 28,
   "metadata": {},
   "outputs": [
    {
     "name": "stdout",
     "output_type": "stream",
     "text": [
      "Standard Deviation of X and Y\n",
      "x1    3.317\n",
      "y1    2.032\n",
      "x2    3.317\n",
      "y2    2.032\n",
      "x3    3.317\n",
      "y3    2.030\n",
      "x4    3.317\n",
      "y4    2.031\n",
      "dtype: float64\n"
     ]
    }
   ],
   "source": [
    "# Print the standard deviation of X and Y to 3 decimals places using the round function in NumPy\n",
    "print(\"Standard Deviation of X and Y\")\n",
    "print(np.round(df.std(), decimals=3))"
   ]
  },
  {
   "cell_type": "markdown",
   "metadata": {},
   "source": [
    "The standard deviation of X is 3.317 for each dataset"
   ]
  },
  {
   "cell_type": "markdown",
   "metadata": {},
   "source": [
    "The standard deviation of Y is 2.031 for each dataset"
   ]
  },
  {
   "cell_type": "code",
   "execution_count": 29,
   "metadata": {},
   "outputs": [
    {
     "name": "stdout",
     "output_type": "stream",
     "text": [
      "The Variance of X and Y\n",
      "x1    11.000\n",
      "y1     4.127\n",
      "x2    11.000\n",
      "y2     4.128\n",
      "x3    11.000\n",
      "y3     4.123\n",
      "x4    11.000\n",
      "y4     4.123\n",
      "dtype: float64\n"
     ]
    }
   ],
   "source": [
    "# Print the variance of X and Y to 3 decimal places using the round function in NumPy\n",
    "print(\"The Variance of X and Y\")\n",
    "print(np.round(df.var(), decimals=3))"
   ]
  },
  {
   "cell_type": "markdown",
   "metadata": {},
   "source": [
    "The variance of X is 11.0 for each dataset."
   ]
  },
  {
   "cell_type": "markdown",
   "metadata": {},
   "source": [
    "The variance of Y is 4.12 for each dataset."
   ]
  },
  {
   "cell_type": "code",
   "execution_count": 30,
   "metadata": {},
   "outputs": [
    {
     "name": "stdout",
     "output_type": "stream",
     "text": [
      "The Correlation of X and Y\n",
      "       x1     y1     x2     y2     x3     y3     x4     y4\n",
      "x1  1.000  0.816  1.000  0.816  1.000  0.816 -0.500 -0.314\n",
      "y1  0.816  1.000  0.816  0.750  0.816  0.469 -0.529 -0.489\n",
      "x2  1.000  0.816  1.000  0.816  1.000  0.816 -0.500 -0.314\n",
      "y2  0.816  0.750  0.816  1.000  0.816  0.588 -0.718 -0.478\n",
      "x3  1.000  0.816  1.000  0.816  1.000  0.816 -0.500 -0.314\n",
      "y3  0.816  0.469  0.816  0.588  0.816  1.000 -0.345 -0.155\n",
      "x4 -0.500 -0.529 -0.500 -0.718 -0.500 -0.345  1.000  0.817\n",
      "y4 -0.314 -0.489 -0.314 -0.478 -0.314 -0.155  0.817  1.000\n"
     ]
    }
   ],
   "source": [
    "# print the coefficient correlation of X and Y to 3 decimal places using the round function in NumPy\n",
    "print(\"The Correlation of X and Y\")\n",
    "print(np.round(df.corr(), decimals=3))"
   ]
  },
  {
   "cell_type": "markdown",
   "metadata": {},
   "source": [
    "The correlation between x1 and y1 is 0.816. The same applies to X2 and Y2 etc. The correlation coefficient always takes a value between -1 and 1, with 1 or -1 indicating perfect correlation (all points would lie along a straight line in this case). A positive correlation indicates a positive association between the variables (increasing values in one variable correspond to increasing values in the other variable), while a negative correlation indicates a negative association between the variables (increasing values is one variable correspond to decreasing values in the other variable). A correlation value close to 0 indicates no association between the variables.[[Stat]](http://www.stat.yale.edu/Courses/1997-98/101/correl.htm).  At 0.816 there is a strong relationship between the two variables X and Y for each dataset."
   ]
  },
  {
   "cell_type": "code",
   "execution_count": 40,
   "metadata": {},
   "outputs": [
    {
     "data": {
      "text/html": [
       "<div>\n",
       "<style>\n",
       "    .dataframe thead tr:only-child th {\n",
       "        text-align: right;\n",
       "    }\n",
       "\n",
       "    .dataframe thead th {\n",
       "        text-align: left;\n",
       "    }\n",
       "\n",
       "    .dataframe tbody tr th {\n",
       "        vertical-align: top;\n",
       "    }\n",
       "</style>\n",
       "<table border=\"1\" class=\"dataframe\">\n",
       "  <thead>\n",
       "    <tr>\n",
       "      <th></th>\n",
       "      <th colspan=\"8\" halign=\"left\">x</th>\n",
       "      <th colspan=\"8\" halign=\"left\">y</th>\n",
       "    </tr>\n",
       "    <tr>\n",
       "      <th></th>\n",
       "      <th>count</th>\n",
       "      <th>mean</th>\n",
       "      <th>std</th>\n",
       "      <th>min</th>\n",
       "      <th>25%</th>\n",
       "      <th>50%</th>\n",
       "      <th>75%</th>\n",
       "      <th>max</th>\n",
       "      <th>count</th>\n",
       "      <th>mean</th>\n",
       "      <th>std</th>\n",
       "      <th>min</th>\n",
       "      <th>25%</th>\n",
       "      <th>50%</th>\n",
       "      <th>75%</th>\n",
       "      <th>max</th>\n",
       "    </tr>\n",
       "    <tr>\n",
       "      <th>dataset</th>\n",
       "      <th></th>\n",
       "      <th></th>\n",
       "      <th></th>\n",
       "      <th></th>\n",
       "      <th></th>\n",
       "      <th></th>\n",
       "      <th></th>\n",
       "      <th></th>\n",
       "      <th></th>\n",
       "      <th></th>\n",
       "      <th></th>\n",
       "      <th></th>\n",
       "      <th></th>\n",
       "      <th></th>\n",
       "      <th></th>\n",
       "      <th></th>\n",
       "    </tr>\n",
       "  </thead>\n",
       "  <tbody>\n",
       "    <tr>\n",
       "      <th>I</th>\n",
       "      <td>11.0</td>\n",
       "      <td>9.0</td>\n",
       "      <td>3.316625</td>\n",
       "      <td>4.0</td>\n",
       "      <td>6.5</td>\n",
       "      <td>9.0</td>\n",
       "      <td>11.5</td>\n",
       "      <td>14.0</td>\n",
       "      <td>11.0</td>\n",
       "      <td>7.500909</td>\n",
       "      <td>2.031568</td>\n",
       "      <td>4.26</td>\n",
       "      <td>6.315</td>\n",
       "      <td>7.58</td>\n",
       "      <td>8.57</td>\n",
       "      <td>10.84</td>\n",
       "    </tr>\n",
       "    <tr>\n",
       "      <th>II</th>\n",
       "      <td>11.0</td>\n",
       "      <td>9.0</td>\n",
       "      <td>3.316625</td>\n",
       "      <td>4.0</td>\n",
       "      <td>6.5</td>\n",
       "      <td>9.0</td>\n",
       "      <td>11.5</td>\n",
       "      <td>14.0</td>\n",
       "      <td>11.0</td>\n",
       "      <td>7.500909</td>\n",
       "      <td>2.031657</td>\n",
       "      <td>3.10</td>\n",
       "      <td>6.695</td>\n",
       "      <td>8.14</td>\n",
       "      <td>8.95</td>\n",
       "      <td>9.26</td>\n",
       "    </tr>\n",
       "    <tr>\n",
       "      <th>III</th>\n",
       "      <td>11.0</td>\n",
       "      <td>9.0</td>\n",
       "      <td>3.316625</td>\n",
       "      <td>4.0</td>\n",
       "      <td>6.5</td>\n",
       "      <td>9.0</td>\n",
       "      <td>11.5</td>\n",
       "      <td>14.0</td>\n",
       "      <td>11.0</td>\n",
       "      <td>7.500000</td>\n",
       "      <td>2.030424</td>\n",
       "      <td>5.39</td>\n",
       "      <td>6.250</td>\n",
       "      <td>7.11</td>\n",
       "      <td>7.98</td>\n",
       "      <td>12.74</td>\n",
       "    </tr>\n",
       "    <tr>\n",
       "      <th>IV</th>\n",
       "      <td>11.0</td>\n",
       "      <td>9.0</td>\n",
       "      <td>3.316625</td>\n",
       "      <td>8.0</td>\n",
       "      <td>8.0</td>\n",
       "      <td>8.0</td>\n",
       "      <td>8.0</td>\n",
       "      <td>19.0</td>\n",
       "      <td>11.0</td>\n",
       "      <td>7.500909</td>\n",
       "      <td>2.030579</td>\n",
       "      <td>5.25</td>\n",
       "      <td>6.170</td>\n",
       "      <td>7.04</td>\n",
       "      <td>8.19</td>\n",
       "      <td>12.50</td>\n",
       "    </tr>\n",
       "  </tbody>\n",
       "</table>\n",
       "</div>"
      ],
      "text/plain": [
       "            x                                               y            \\\n",
       "        count mean       std  min  25%  50%   75%   max count      mean   \n",
       "dataset                                                                   \n",
       "I        11.0  9.0  3.316625  4.0  6.5  9.0  11.5  14.0  11.0  7.500909   \n",
       "II       11.0  9.0  3.316625  4.0  6.5  9.0  11.5  14.0  11.0  7.500909   \n",
       "III      11.0  9.0  3.316625  4.0  6.5  9.0  11.5  14.0  11.0  7.500000   \n",
       "IV       11.0  9.0  3.316625  8.0  8.0  8.0   8.0  19.0  11.0  7.500909   \n",
       "\n",
       "                                                   \n",
       "              std   min    25%   50%   75%    max  \n",
       "dataset                                            \n",
       "I        2.031568  4.26  6.315  7.58  8.57  10.84  \n",
       "II       2.031657  3.10  6.695  8.14  8.95   9.26  \n",
       "III      2.030424  5.39  6.250  7.11  7.98  12.74  \n",
       "IV       2.030579  5.25  6.170  7.04  8.19  12.50  "
      ]
     },
     "execution_count": 40,
     "metadata": {},
     "output_type": "execute_result"
    }
   ],
   "source": [
    "# Print each dataset in table format stating the count, mean and std as well as other relevant data\n",
    "anscombe = sns.load_dataset(\"anscombe\")\n",
    "anscombe.groupby(\"dataset\").describe()"
   ]
  },
  {
   "cell_type": "markdown",
   "metadata": {},
   "source": [
    "This table contains data for each dataset and includes count, mean and standard deviation. It also includes min and max numbers and other relevant information in relation to the datasets."
   ]
  },
  {
   "cell_type": "code",
   "execution_count": 48,
   "metadata": {},
   "outputs": [
    {
     "data": {
      "text/plain": [
       "<seaborn.axisgrid.FacetGrid at 0x1f479c095c0>"
      ]
     },
     "execution_count": 48,
     "metadata": {},
     "output_type": "execute_result"
    },
    {
     "data": {
      "image/png": "[encoded data removed]",
      "text/plain": [
       "<matplotlib.figure.Figure at 0x1f4799208d0>"
      ]
     },
     "metadata": {},
     "output_type": "display_data"
    }
   ],
   "source": [
    "# These are the points of the each dataset using seaborn before linear regression\n",
    "%matplotlib inline\n",
    "sns.lmplot(x=\"x\", y=\"y\", col=\"dataset\", hue=\"dataset\", data=anscombe, col_wrap=2, fit_reg=False)"
   ]
  },
  {
   "cell_type": "code",
   "execution_count": 63,
   "metadata": {},
   "outputs": [
    {
     "data": {
      "image/png": "[encoded data removed]",
      "text/plain": [
       "<matplotlib.figure.Figure at 0x2014b4359b0>"
      ]
     },
     "metadata": {},
     "output_type": "display_data"
    },
    {
     "data": {
      "image/png": "[encoded data removed]",
      "text/plain": [
       "<matplotlib.figure.Figure at 0x2014b5352b0>"
      ]
     },
     "metadata": {},
     "output_type": "display_data"
    },
    {
     "data": {
      "image/png": "[encoded data removed]",
      "text/plain": [
       "<matplotlib.figure.Figure at 0x2014c97f278>"
      ]
     },
     "metadata": {},
     "output_type": "display_data"
    },
    {
     "data": {
      "image/png": "[encoded data removed]",
      "text/plain": [
       "<matplotlib.figure.Figure at 0x2014c96ba58>"
      ]
     },
     "metadata": {},
     "output_type": "display_data"
    }
   ],
   "source": [
    "# Show the results of a linear regression within each dataset\n",
    "for data_set in anscombe.dataset.unique():\n",
    "     df = anscombe.query(\"dataset == '{}'\".format(data_set))\n",
    "     slope, intercept, r_val, p_val, slope_std_error = stats.linregress(x=df.x, y=df.y)\n",
    "     sns.lmplot(x=\"x\", y=\"y\", data=df);\n",
    "     plt.title(\"Data set {}: y={:.2f}x+{:.2f}\".format(data_set, slope, intercept, p_val, r_val))\n",
    "     plt.show()"
   ]
  },
  {
   "cell_type": "markdown",
   "metadata": {},
   "source": [
    "As well has the same mean and standard deviation etc., each dataset has a linear regression (line of best fit) of y = 0.5x + 3. A linear regression line has an equation of the form Y = a + bX, where X is the explanatory variable and Y is the dependent variable. The slope of the line is b, and a is the intercept (the value of y when x = 0) [[Linear]](http://www.stat.yale.edu/Courses/1997-98/101/linreg.htm)"
   ]
  },
  {
   "cell_type": "markdown",
   "metadata": {},
   "source": [
    " ## Analysis of the Dataset"
   ]
  },
  {
   "cell_type": "markdown",
   "metadata": {},
   "source": [
    "We are after plotting Anscombe Quartet Dataset and found that each dataset has identical mean, variance, standard deviation and other identical data but with the same information each dataset have completely different graphs. \n",
    "\n",
    "Dataset I looks like a simple linear regression model. This is where we plot the best fitting line straight through the data points of dataset I.\n",
    "\n",
    "Dataset II has the same summary statistics as the rest of the datasets but shows a curvilinear relation model. This model has a type of relationship between two variables where as one variable increases, so does the other variable, but only up to a certain point, after which, as one variable continues to increase, the other decreases. [[Alleydog]](https://www.alleydog.com/glossary/definition.php?term=Curvilinear+Relationship)\n",
    "\n",
    "Dataset III the distribution is linear, but with a different regression line, which is offset by the one outlier which exerts enough influence to alter the regression line and lower the correlation coefficient from 1 to 0.816 [[Natalia]](http://natalia.dbsdataprojects.com/2016/02/29/anscombes-quartet). After a regression line has been computed for a group of data, a point which lies far from the line (and thus has a large residual value) is known as an outlier.[[Outliner]](http://www.stat.yale.edu/Courses/1997-98/101/linreg.htm)\n",
    "\n",
    "Dataset IV shows on outliner is enough a high correlation coefficient, even though the relationship between the two variables is not linear. [[Natalia]](http://natalia.dbsdataprojects.com/2016/02/29/anscombes-quartet) The regression equation is determined entirely by the single observation at x=19. "
   ]
  },
  {
   "cell_type": "markdown",
   "metadata": {},
   "source": [
    "In order to validate Anscombe theorem, we will create new dataset by multiplying the original dataset by 2 as per [[Natalia]](http://natalia.dbsdataprojects.com/2016/02/29/anscombes-quartet). As we can see from the data below, even after multiplying the Anscombe Quartet Dataset by 2, all the datasets have the same mean of x = 18 & y = 15 and the standard deviation of x = 6.63325 & y =\t4.063136. The coefficient correlation is again 0.816 so there is a strong relation between the x and y variables for each dataset. And again the graphs have a similiar visulisation as the original Anscombe Quartet."
   ]
  },
  {
   "cell_type": "code",
   "execution_count": 112,
   "metadata": {},
   "outputs": [
    {
     "data": {
      "text/html": [
       "<div>\n",
       "<style>\n",
       "    .dataframe thead tr:only-child th {\n",
       "        text-align: right;\n",
       "    }\n",
       "\n",
       "    .dataframe thead th {\n",
       "        text-align: left;\n",
       "    }\n",
       "\n",
       "    .dataframe tbody tr th {\n",
       "        vertical-align: top;\n",
       "    }\n",
       "</style>\n",
       "<table border=\"1\" class=\"dataframe\">\n",
       "  <thead>\n",
       "    <tr style=\"text-align: right;\">\n",
       "      <th></th>\n",
       "      <th>x1</th>\n",
       "      <th>y1</th>\n",
       "      <th>x2</th>\n",
       "      <th>y2</th>\n",
       "      <th>x3</th>\n",
       "      <th>y3</th>\n",
       "      <th>x4</th>\n",
       "      <th>y4</th>\n",
       "    </tr>\n",
       "  </thead>\n",
       "  <tbody>\n",
       "    <tr>\n",
       "      <th>0</th>\n",
       "      <td>20</td>\n",
       "      <td>16.08</td>\n",
       "      <td>20</td>\n",
       "      <td>18.28</td>\n",
       "      <td>20</td>\n",
       "      <td>14.92</td>\n",
       "      <td>16</td>\n",
       "      <td>13.16</td>\n",
       "    </tr>\n",
       "    <tr>\n",
       "      <th>1</th>\n",
       "      <td>16</td>\n",
       "      <td>13.90</td>\n",
       "      <td>16</td>\n",
       "      <td>16.28</td>\n",
       "      <td>16</td>\n",
       "      <td>13.54</td>\n",
       "      <td>16</td>\n",
       "      <td>11.52</td>\n",
       "    </tr>\n",
       "    <tr>\n",
       "      <th>2</th>\n",
       "      <td>26</td>\n",
       "      <td>15.16</td>\n",
       "      <td>26</td>\n",
       "      <td>17.48</td>\n",
       "      <td>26</td>\n",
       "      <td>25.48</td>\n",
       "      <td>16</td>\n",
       "      <td>15.42</td>\n",
       "    </tr>\n",
       "    <tr>\n",
       "      <th>3</th>\n",
       "      <td>18</td>\n",
       "      <td>17.62</td>\n",
       "      <td>18</td>\n",
       "      <td>17.54</td>\n",
       "      <td>18</td>\n",
       "      <td>14.22</td>\n",
       "      <td>16</td>\n",
       "      <td>17.68</td>\n",
       "    </tr>\n",
       "    <tr>\n",
       "      <th>4</th>\n",
       "      <td>22</td>\n",
       "      <td>16.66</td>\n",
       "      <td>22</td>\n",
       "      <td>18.52</td>\n",
       "      <td>22</td>\n",
       "      <td>15.62</td>\n",
       "      <td>16</td>\n",
       "      <td>16.94</td>\n",
       "    </tr>\n",
       "    <tr>\n",
       "      <th>5</th>\n",
       "      <td>28</td>\n",
       "      <td>19.92</td>\n",
       "      <td>28</td>\n",
       "      <td>16.20</td>\n",
       "      <td>28</td>\n",
       "      <td>17.68</td>\n",
       "      <td>16</td>\n",
       "      <td>14.08</td>\n",
       "    </tr>\n",
       "    <tr>\n",
       "      <th>6</th>\n",
       "      <td>12</td>\n",
       "      <td>14.48</td>\n",
       "      <td>12</td>\n",
       "      <td>12.26</td>\n",
       "      <td>12</td>\n",
       "      <td>12.16</td>\n",
       "      <td>16</td>\n",
       "      <td>10.50</td>\n",
       "    </tr>\n",
       "    <tr>\n",
       "      <th>7</th>\n",
       "      <td>8</td>\n",
       "      <td>8.52</td>\n",
       "      <td>8</td>\n",
       "      <td>6.20</td>\n",
       "      <td>8</td>\n",
       "      <td>10.78</td>\n",
       "      <td>38</td>\n",
       "      <td>25.00</td>\n",
       "    </tr>\n",
       "    <tr>\n",
       "      <th>8</th>\n",
       "      <td>24</td>\n",
       "      <td>21.68</td>\n",
       "      <td>24</td>\n",
       "      <td>18.26</td>\n",
       "      <td>24</td>\n",
       "      <td>16.30</td>\n",
       "      <td>16</td>\n",
       "      <td>11.12</td>\n",
       "    </tr>\n",
       "    <tr>\n",
       "      <th>9</th>\n",
       "      <td>14</td>\n",
       "      <td>9.64</td>\n",
       "      <td>14</td>\n",
       "      <td>14.52</td>\n",
       "      <td>14</td>\n",
       "      <td>12.84</td>\n",
       "      <td>16</td>\n",
       "      <td>15.82</td>\n",
       "    </tr>\n",
       "    <tr>\n",
       "      <th>10</th>\n",
       "      <td>10</td>\n",
       "      <td>11.36</td>\n",
       "      <td>10</td>\n",
       "      <td>9.48</td>\n",
       "      <td>10</td>\n",
       "      <td>11.46</td>\n",
       "      <td>16</td>\n",
       "      <td>13.78</td>\n",
       "    </tr>\n",
       "  </tbody>\n",
       "</table>\n",
       "</div>"
      ],
      "text/plain": [
       "    x1     y1  x2     y2  x3     y3  x4     y4\n",
       "0   20  16.08  20  18.28  20  14.92  16  13.16\n",
       "1   16  13.90  16  16.28  16  13.54  16  11.52\n",
       "2   26  15.16  26  17.48  26  25.48  16  15.42\n",
       "3   18  17.62  18  17.54  18  14.22  16  17.68\n",
       "4   22  16.66  22  18.52  22  15.62  16  16.94\n",
       "5   28  19.92  28  16.20  28  17.68  16  14.08\n",
       "6   12  14.48  12  12.26  12  12.16  16  10.50\n",
       "7    8   8.52   8   6.20   8  10.78  38  25.00\n",
       "8   24  21.68  24  18.26  24  16.30  16  11.12\n",
       "9   14   9.64  14  14.52  14  12.84  16  15.82\n",
       "10  10  11.36  10   9.48  10  11.46  16  13.78"
      ]
     },
     "execution_count": 112,
     "metadata": {},
     "output_type": "execute_result"
    }
   ],
   "source": [
    "# load the example dataset for Anscombe's quartet\n",
    "data = pd.read_csv('anscombe2.csv')\n",
    "data"
   ]
  },
  {
   "cell_type": "code",
   "execution_count": 114,
   "metadata": {},
   "outputs": [
    {
     "name": "stdout",
     "output_type": "stream",
     "text": [
      "The Correlation of X and Y\n",
      "       x1     y1     x2     y2     x3     y3     x4     y4\n",
      "x1  1.000  0.816  1.000  0.816  1.000  0.816 -0.500 -0.314\n",
      "y1  0.816  1.000  0.816  0.750  0.816  0.469 -0.529 -0.489\n",
      "x2  1.000  0.816  1.000  0.816  1.000  0.816 -0.500 -0.314\n",
      "y2  0.816  0.750  0.816  1.000  0.816  0.588 -0.718 -0.478\n",
      "x3  1.000  0.816  1.000  0.816  1.000  0.816 -0.500 -0.314\n",
      "y3  0.816  0.469  0.816  0.588  0.816  1.000 -0.345 -0.155\n",
      "x4 -0.500 -0.529 -0.500 -0.718 -0.500 -0.345  1.000  0.817\n",
      "y4 -0.314 -0.489 -0.314 -0.478 -0.314 -0.155  0.817  1.000\n"
     ]
    }
   ],
   "source": [
    "# print the coefficient correlation of X and Y to 3 decimal places using the round function in NumPy\n",
    "print(\"The Correlation of X and Y\")\n",
    "print(np.round(data.corr(), decimals=3))"
   ]
  },
  {
   "cell_type": "code",
   "execution_count": 115,
   "metadata": {},
   "outputs": [
    {
     "data": {
      "text/html": [
       "<div>\n",
       "<style>\n",
       "    .dataframe thead tr:only-child th {\n",
       "        text-align: right;\n",
       "    }\n",
       "\n",
       "    .dataframe thead th {\n",
       "        text-align: left;\n",
       "    }\n",
       "\n",
       "    .dataframe tbody tr th {\n",
       "        vertical-align: top;\n",
       "    }\n",
       "</style>\n",
       "<table border=\"1\" class=\"dataframe\">\n",
       "  <thead>\n",
       "    <tr style=\"text-align: right;\">\n",
       "      <th></th>\n",
       "      <th>x1</th>\n",
       "      <th>y1</th>\n",
       "      <th>x2</th>\n",
       "      <th>y2</th>\n",
       "      <th>x3</th>\n",
       "      <th>y3</th>\n",
       "      <th>x4</th>\n",
       "      <th>y4</th>\n",
       "    </tr>\n",
       "  </thead>\n",
       "  <tbody>\n",
       "    <tr>\n",
       "      <th>count</th>\n",
       "      <td>11.00000</td>\n",
       "      <td>11.000000</td>\n",
       "      <td>11.00000</td>\n",
       "      <td>11.000000</td>\n",
       "      <td>11.00000</td>\n",
       "      <td>11.000000</td>\n",
       "      <td>11.00000</td>\n",
       "      <td>11.000000</td>\n",
       "    </tr>\n",
       "    <tr>\n",
       "      <th>mean</th>\n",
       "      <td>18.00000</td>\n",
       "      <td>15.001818</td>\n",
       "      <td>18.00000</td>\n",
       "      <td>15.001818</td>\n",
       "      <td>18.00000</td>\n",
       "      <td>15.000000</td>\n",
       "      <td>18.00000</td>\n",
       "      <td>15.001818</td>\n",
       "    </tr>\n",
       "    <tr>\n",
       "      <th>std</th>\n",
       "      <td>6.63325</td>\n",
       "      <td>4.063136</td>\n",
       "      <td>6.63325</td>\n",
       "      <td>4.063313</td>\n",
       "      <td>6.63325</td>\n",
       "      <td>4.060847</td>\n",
       "      <td>6.63325</td>\n",
       "      <td>4.061157</td>\n",
       "    </tr>\n",
       "    <tr>\n",
       "      <th>min</th>\n",
       "      <td>8.00000</td>\n",
       "      <td>8.520000</td>\n",
       "      <td>8.00000</td>\n",
       "      <td>6.200000</td>\n",
       "      <td>8.00000</td>\n",
       "      <td>10.780000</td>\n",
       "      <td>16.00000</td>\n",
       "      <td>10.500000</td>\n",
       "    </tr>\n",
       "    <tr>\n",
       "      <th>25%</th>\n",
       "      <td>13.00000</td>\n",
       "      <td>12.630000</td>\n",
       "      <td>13.00000</td>\n",
       "      <td>13.390000</td>\n",
       "      <td>13.00000</td>\n",
       "      <td>12.500000</td>\n",
       "      <td>16.00000</td>\n",
       "      <td>12.340000</td>\n",
       "    </tr>\n",
       "    <tr>\n",
       "      <th>50%</th>\n",
       "      <td>18.00000</td>\n",
       "      <td>15.160000</td>\n",
       "      <td>18.00000</td>\n",
       "      <td>16.280000</td>\n",
       "      <td>18.00000</td>\n",
       "      <td>14.220000</td>\n",
       "      <td>16.00000</td>\n",
       "      <td>14.080000</td>\n",
       "    </tr>\n",
       "    <tr>\n",
       "      <th>75%</th>\n",
       "      <td>23.00000</td>\n",
       "      <td>17.140000</td>\n",
       "      <td>23.00000</td>\n",
       "      <td>17.900000</td>\n",
       "      <td>23.00000</td>\n",
       "      <td>15.960000</td>\n",
       "      <td>16.00000</td>\n",
       "      <td>16.380000</td>\n",
       "    </tr>\n",
       "    <tr>\n",
       "      <th>max</th>\n",
       "      <td>28.00000</td>\n",
       "      <td>21.680000</td>\n",
       "      <td>28.00000</td>\n",
       "      <td>18.520000</td>\n",
       "      <td>28.00000</td>\n",
       "      <td>25.480000</td>\n",
       "      <td>38.00000</td>\n",
       "      <td>25.000000</td>\n",
       "    </tr>\n",
       "  </tbody>\n",
       "</table>\n",
       "</div>"
      ],
      "text/plain": [
       "             x1         y1        x2         y2        x3         y3  \\\n",
       "count  11.00000  11.000000  11.00000  11.000000  11.00000  11.000000   \n",
       "mean   18.00000  15.001818  18.00000  15.001818  18.00000  15.000000   \n",
       "std     6.63325   4.063136   6.63325   4.063313   6.63325   4.060847   \n",
       "min     8.00000   8.520000   8.00000   6.200000   8.00000  10.780000   \n",
       "25%    13.00000  12.630000  13.00000  13.390000  13.00000  12.500000   \n",
       "50%    18.00000  15.160000  18.00000  16.280000  18.00000  14.220000   \n",
       "75%    23.00000  17.140000  23.00000  17.900000  23.00000  15.960000   \n",
       "max    28.00000  21.680000  28.00000  18.520000  28.00000  25.480000   \n",
       "\n",
       "             x4         y4  \n",
       "count  11.00000  11.000000  \n",
       "mean   18.00000  15.001818  \n",
       "std     6.63325   4.061157  \n",
       "min    16.00000  10.500000  \n",
       "25%    16.00000  12.340000  \n",
       "50%    16.00000  14.080000  \n",
       "75%    16.00000  16.380000  \n",
       "max    38.00000  25.000000  "
      ]
     },
     "execution_count": 115,
     "metadata": {},
     "output_type": "execute_result"
    }
   ],
   "source": [
    "# Load a table of count, mean, std etc.\n",
    "data.apply(pd.DataFrame.describe)"
   ]
  },
  {
   "cell_type": "code",
   "execution_count": 102,
   "metadata": {},
   "outputs": [],
   "source": [
    "# The list of Anscombe's data points multiply by 2\n",
    "x = np.array([20, 16, 26, 18, 22, 28, 12, 8, 24, 14, 10])\n",
    "y1 = np.array([16.08, 13.9, 15.16, 17.62, 16.66, 19.92, 14.48, 8.52, 21.68, 9.64, 11.36])\n",
    "y2 = np.array([18.28, 16.28, 17.48, 17.54, 18.52, 16.2, 12.26, 6.2, 18.26, 14.52, 9.48])\n",
    "y3 = np.array([14.92, 13.54, 25.48, 14.22, 15.62, 17.68, 12.16, 10.78, 16.3, 12.84, 11.46])\n",
    "x4 = np.array([16, 16, 16, 16, 16, 16, 16, 38, 16, 16, 16])\n",
    "y4 = np.array([13.16, 11.52, 15.42, 17.68, 16.84, 14.08, 10.5, 25, 11.12, 15.82, 13.78])"
   ]
  },
  {
   "cell_type": "code",
   "execution_count": 111,
   "metadata": {},
   "outputs": [
    {
     "data": {
      "image/png": "[encoded data removed]",
      "text/plain": [
       "<matplotlib.figure.Figure at 0x1f47f3d9198>"
      ]
     },
     "metadata": {},
     "output_type": "display_data"
    }
   ],
   "source": [
    "# Return the linear regression line for each dataset\n",
    "\n",
    "\n",
    "# Plot the data set points with regression line\n",
    "plt.subplot(221)\n",
    "plt.plot(x, y1, 'ks','r-', lw=2)\n",
    "plt.axis([2, 20, 2, 14])\n",
    "plt.setp(plt.gca(), yticks=(4, 8, 16, 20, 24), xticks=(0, 10, 20, 30, 40))\n",
    "plt.text(3, 12, 'I', fontsize=20) \n",
    "\n",
    "plt.subplot(222)\n",
    "plt.plot(x, y2, 'ks', 'r-', lw=2)\n",
    "plt.axis([2, 20, 2, 14])\n",
    "plt.setp(plt.gca(), xticks=(0, 10, 20, 30, 40), xticklabels=[],\n",
    "         yticks=(4, 8, 16, 20, 24), yticklabels=[], )\n",
    "plt.text(3, 12, 'II', fontsize=20)\n",
    "\n",
    "plt.subplot(223)\n",
    "plt.plot(x, y3, 'ks', 'r-', lw=2)\n",
    "plt.axis([2, 20, 2, 14])\n",
    "plt.text(3, 12, 'III', fontsize=20)\n",
    "plt.setp(plt.gca(), yticks=(4, 8, 16, 20, 24), xticks=(0, 10, 20, 30, 40))\n",
    "\n",
    "plt.subplot(224)\n",
    "xfit = np.array([np.min(x4), np.max(x4)])\n",
    "plt.plot(x4, y4, 'ks', 'r-', lw=2)\n",
    "plt.axis([2, 20, 2, 14])\n",
    "plt.setp(plt.gca(), yticklabels=[], yticks=(4, 8, 16, 20, 24), xticks=(0, 10, 20, 30, 40))\n",
    "plt.text(3, 12, 'IV', fontsize=20)\n",
    "plt.show()"
   ]
  },
  {
   "cell_type": "markdown",
   "metadata": {},
   "source": [
    "## Summary"
   ]
  },
  {
   "cell_type": "markdown",
   "metadata": {},
   "source": [
    "After analysing our data, we can see that the four datasets have the same mean, standard deviation and coefficient but once these data points are graphed using regression analysis method there is a visual difference for each datasets for both the original Anscombe's Quartet and the creation of the second Anscombe's Quartet.\n",
    "  \n",
    "The effectiveness of Anscombe's Quartet is not due to simply having four different datasets which generate the same statistical properties, it is that four clearly different and visually distinct datasets are producing the same statistical properties [[Dozen]](https://www.autodeskresearch.com/publications/samestats)\n",
    "\n",
    "Recently, Alberto Cairo created the Datasaurus dataset which urges people to \"never trust summary statistics alone; always visualize your data\", since, while the data exhibits normal seeming statistics, plotting the data reveals a picture of a dinosaur. Inspired by Anscombe's Quartet and the Datasaurus,[[Dozen]](https://www.autodeskresearch.com/publications/samestats)\n",
    "\n",
    "Cairo is suggesting that effective data analysis should consist of both statistical analysis and visualisations.\n",
    "\n",
    "Anscombe who helped computerize statistical analyses while seeking to avoid flawed interpretations of such data. In using computers to analyze statistical data, he drew on his expertise in the sampling of inspections for industrial quality control, the philosophical foundations of probability and the analysis of variance. [[NY]](https://www.nytimes.com/2001/10/25/nyregion/francis-john-anscombe-83-mathematician-and-professor.html)\n",
    "\n"
   ]
  },
  {
   "cell_type": "markdown",
   "metadata": {},
   "source": [
    "## References"
   ]
  },
  {
   "cell_type": "markdown",
   "metadata": {
    "collapsed": true
   },
   "source": [
    "[1] http://natalia.dbsdataprojects.com/2016/02/29/anscombes-quartet/"
   ]
  },
  {
   "cell_type": "markdown",
   "metadata": {
    "collapsed": true
   },
   "source": [
    "[2] https://www.vernier.com/innovate/anscombes-quartet/"
   ]
  },
  {
   "cell_type": "markdown",
   "metadata": {
    "collapsed": true
   },
   "source": [
    "[3] https://rstudio-pubs-static.s3.amazonaws.com/52381_36ec82827e4b476fb968d9143aec7c4f.html"
   ]
  },
  {
   "cell_type": "markdown",
   "metadata": {},
   "source": [
    "[4] https://www.autodeskresearch.com/publications/samestats"
   ]
  },
  {
   "cell_type": "markdown",
   "metadata": {},
   "source": [
    "[5] http://www.stat.yale.edu/Courses/1997-98/101/correl.htm"
   ]
  },
  {
   "cell_type": "markdown",
   "metadata": {},
   "source": [
    "[6] http://www.stat.yale.edu/Courses/1997-98/101/linreg.htm"
   ]
  },
  {
   "cell_type": "markdown",
   "metadata": {
    "collapsed": true
   },
   "source": [
    "[7] https://www.alleydog.com/glossary/definition.php?term=Curvilinear+Relationship"
   ]
  },
  {
   "cell_type": "markdown",
   "metadata": {
    "collapsed": true
   },
   "source": [
    "[8] http://www.stat.yale.edu/Courses/1997-98/101/linreg.htm"
   ]
  },
  {
   "cell_type": "markdown",
   "metadata": {
    "collapsed": true
   },
   "source": [
    "[9] https://vknight.org/unpeudemath/mathematics/2016/10/29/anscombes-quartet-variability-and-ciw.html"
   ]
  },
  {
   "cell_type": "markdown",
   "metadata": {},
   "source": [
    "[10] https://www.nytimes.com/2001/10/25/nyregion/francis-john-anscombe-83-mathematician-and-professor.html"
   ]
  }
 ],
 "metadata": {
  "kernelspec": {
   "display_name": "Python 3",
   "language": "python",
   "name": "python3"
  },
  "language_info": {
   "codemirror_mode": {
    "name": "ipython",
    "version": 3
   },
   "file_extension": ".py",
   "mimetype": "text/x-python",
   "name": "python",
   "nbconvert_exporter": "python",
   "pygments_lexer": "ipython3",
   "version": "3.6.3"
  }
 },
 "nbformat": 4,
 "nbformat_minor": 2
}
