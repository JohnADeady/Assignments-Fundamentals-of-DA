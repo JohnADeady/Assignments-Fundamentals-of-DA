{
 "cells": [
  {
   "cell_type": "markdown",
   "metadata": {},
   "source": [
    "# The Anscombe's Quartet Database"
   ]
  },
  {
   "cell_type": "markdown",
   "metadata": {},
   "source": [
    "The purpose of this Jupyter notebook is to anaylse Anscombe's quartet database. There are four tasks to be carried out in this notebook:\n",
    "\n",
    "1. Explain the background to the dataset – who created it, when it was created, and any speculation you can ﬁnd regarding how it might have been created.\n",
    "2. Plot the interesting aspects of the database\n",
    "3. Calculate the descriptive statistics of the variables in the dataset. \n",
    "4. Explain why the dataset is interesting, referring to the plots and statistics above."
   ]
  },
  {
   "cell_type": "markdown",
   "metadata": {},
   "source": [
    "## Background"
   ]
  },
  {
   "cell_type": "markdown",
   "metadata": {},
   "source": [
    "The proverb “A picture is worth 1000 words” is one you have probably heard more than once. A picture can also be worth 1000 data points. [[Natalia]( http://natalia.dbsdataprojects.com/2016/02/29/anscombes-quartet/)]\n",
    "\n",
    "The Anscombe's Quartet Database was created by Francis John Anscombe. These were the subjects of a 1973 paper in “The American Statistician”. He wrote a paper about the importance of actually graphing your data, and not just depending on statistical analysis. \n",
    "\n",
    "He created four sets of XY data pairs, each with identical average X, average Y, variance in X and Y, mean X and Y, linear regression slope and intercept, and even correlation coefficients and RMSE values. In other words, these data sets seemed to be about the same—until they are graphed. [[Vernier](https://www.vernier.com/innovate/anscombes-quartet/)]\n",
    "\n",
    "Graphs may not be as precise as statistics, but they provides a unique view onto data that can make it much easier to discover interesting structures than numerical methods. Graphs also provides the context necessary to make better choices and to be more careful when fitting models. Anscombe’s Quartet is a case in point, showing that four datasets that have identical statistical properties can indeed be very different [[Rstudio](https://rstudio-pubs-static.s3.amazonaws.com/52381_36ec82827e4b476fb968d9143aec7c4f.html)]"
   ]
  },
  {
   "cell_type": "markdown",
   "metadata": {},
   "source": [
    "<img src=\"https://upload.wikimedia.org/wikipedia/en/d/d5/Francis_Anscombe.jpeg\">"
   ]
  },
  {
   "cell_type": "markdown",
   "metadata": {},
   "source": [
    "## Plotting the Database"
   ]
  },
  {
   "cell_type": "code",
   "execution_count": 108,
   "metadata": {
    "collapsed": true
   },
   "outputs": [],
   "source": [
    "# Import the necessary libraires for this notebook\n",
    "import pandas as pd # Data Manipulation\n",
    "import numpy as np # Summary Statistics\n",
    "import seaborn as sns # Plots\n",
    "import matplotlib.pyplot as plt # Plots\n",
    "from scipy import stats # Linear Regression"
   ]
  },
  {
   "cell_type": "code",
   "execution_count": 109,
   "metadata": {},
   "outputs": [
    {
     "data": {
      "text/html": [
       "<div>\n",
       "<style>\n",
       "    .dataframe thead tr:only-child th {\n",
       "        text-align: right;\n",
       "    }\n",
       "\n",
       "    .dataframe thead th {\n",
       "        text-align: left;\n",
       "    }\n",
       "\n",
       "    .dataframe tbody tr th {\n",
       "        vertical-align: top;\n",
       "    }\n",
       "</style>\n",
       "<table border=\"1\" class=\"dataframe\">\n",
       "  <thead>\n",
       "    <tr style=\"text-align: right;\">\n",
       "      <th></th>\n",
       "      <th>x1</th>\n",
       "      <th>y1</th>\n",
       "      <th>x2</th>\n",
       "      <th>y2</th>\n",
       "      <th>x3</th>\n",
       "      <th>y3</th>\n",
       "      <th>x4</th>\n",
       "      <th>y4</th>\n",
       "    </tr>\n",
       "  </thead>\n",
       "  <tbody>\n",
       "    <tr>\n",
       "      <th>0</th>\n",
       "      <td>10</td>\n",
       "      <td>8.04</td>\n",
       "      <td>10</td>\n",
       "      <td>9.14</td>\n",
       "      <td>10</td>\n",
       "      <td>7.46</td>\n",
       "      <td>8</td>\n",
       "      <td>6.58</td>\n",
       "    </tr>\n",
       "    <tr>\n",
       "      <th>1</th>\n",
       "      <td>8</td>\n",
       "      <td>6.95</td>\n",
       "      <td>8</td>\n",
       "      <td>8.14</td>\n",
       "      <td>8</td>\n",
       "      <td>6.77</td>\n",
       "      <td>8</td>\n",
       "      <td>5.76</td>\n",
       "    </tr>\n",
       "    <tr>\n",
       "      <th>2</th>\n",
       "      <td>13</td>\n",
       "      <td>7.58</td>\n",
       "      <td>13</td>\n",
       "      <td>8.74</td>\n",
       "      <td>13</td>\n",
       "      <td>12.74</td>\n",
       "      <td>8</td>\n",
       "      <td>7.71</td>\n",
       "    </tr>\n",
       "    <tr>\n",
       "      <th>3</th>\n",
       "      <td>9</td>\n",
       "      <td>8.81</td>\n",
       "      <td>9</td>\n",
       "      <td>8.77</td>\n",
       "      <td>9</td>\n",
       "      <td>7.11</td>\n",
       "      <td>8</td>\n",
       "      <td>8.84</td>\n",
       "    </tr>\n",
       "    <tr>\n",
       "      <th>4</th>\n",
       "      <td>11</td>\n",
       "      <td>8.33</td>\n",
       "      <td>11</td>\n",
       "      <td>9.26</td>\n",
       "      <td>11</td>\n",
       "      <td>7.81</td>\n",
       "      <td>8</td>\n",
       "      <td>8.47</td>\n",
       "    </tr>\n",
       "    <tr>\n",
       "      <th>5</th>\n",
       "      <td>14</td>\n",
       "      <td>9.96</td>\n",
       "      <td>14</td>\n",
       "      <td>8.10</td>\n",
       "      <td>14</td>\n",
       "      <td>8.84</td>\n",
       "      <td>8</td>\n",
       "      <td>7.04</td>\n",
       "    </tr>\n",
       "    <tr>\n",
       "      <th>6</th>\n",
       "      <td>6</td>\n",
       "      <td>7.24</td>\n",
       "      <td>6</td>\n",
       "      <td>6.13</td>\n",
       "      <td>6</td>\n",
       "      <td>6.08</td>\n",
       "      <td>8</td>\n",
       "      <td>5.25</td>\n",
       "    </tr>\n",
       "    <tr>\n",
       "      <th>7</th>\n",
       "      <td>4</td>\n",
       "      <td>4.26</td>\n",
       "      <td>4</td>\n",
       "      <td>3.10</td>\n",
       "      <td>4</td>\n",
       "      <td>5.39</td>\n",
       "      <td>19</td>\n",
       "      <td>12.50</td>\n",
       "    </tr>\n",
       "    <tr>\n",
       "      <th>8</th>\n",
       "      <td>12</td>\n",
       "      <td>10.84</td>\n",
       "      <td>12</td>\n",
       "      <td>9.13</td>\n",
       "      <td>12</td>\n",
       "      <td>8.15</td>\n",
       "      <td>8</td>\n",
       "      <td>5.56</td>\n",
       "    </tr>\n",
       "    <tr>\n",
       "      <th>9</th>\n",
       "      <td>7</td>\n",
       "      <td>4.82</td>\n",
       "      <td>7</td>\n",
       "      <td>7.26</td>\n",
       "      <td>7</td>\n",
       "      <td>6.42</td>\n",
       "      <td>8</td>\n",
       "      <td>7.91</td>\n",
       "    </tr>\n",
       "    <tr>\n",
       "      <th>10</th>\n",
       "      <td>5</td>\n",
       "      <td>5.68</td>\n",
       "      <td>5</td>\n",
       "      <td>4.74</td>\n",
       "      <td>5</td>\n",
       "      <td>5.73</td>\n",
       "      <td>8</td>\n",
       "      <td>6.89</td>\n",
       "    </tr>\n",
       "  </tbody>\n",
       "</table>\n",
       "</div>"
      ],
      "text/plain": [
       "    x1     y1  x2    y2  x3     y3  x4     y4\n",
       "0   10   8.04  10  9.14  10   7.46   8   6.58\n",
       "1    8   6.95   8  8.14   8   6.77   8   5.76\n",
       "2   13   7.58  13  8.74  13  12.74   8   7.71\n",
       "3    9   8.81   9  8.77   9   7.11   8   8.84\n",
       "4   11   8.33  11  9.26  11   7.81   8   8.47\n",
       "5   14   9.96  14  8.10  14   8.84   8   7.04\n",
       "6    6   7.24   6  6.13   6   6.08   8   5.25\n",
       "7    4   4.26   4  3.10   4   5.39  19  12.50\n",
       "8   12  10.84  12  9.13  12   8.15   8   5.56\n",
       "9    7   4.82   7  7.26   7   6.42   8   7.91\n",
       "10   5   5.68   5  4.74   5   5.73   8   6.89"
      ]
     },
     "execution_count": 109,
     "metadata": {},
     "output_type": "execute_result"
    }
   ],
   "source": [
    "# load the example dataset for Anscombe's quartet\n",
    "df = pd.read_csv('anscombe.csv')\n",
    "df"
   ]
  },
  {
   "cell_type": "code",
   "execution_count": 118,
   "metadata": {},
   "outputs": [
    {
     "name": "stdout",
     "output_type": "stream",
     "text": [
      "x1    9.000\n",
      "y1    7.501\n",
      "x2    9.000\n",
      "y2    7.501\n",
      "x3    9.000\n",
      "y3    7.500\n",
      "x4    9.000\n",
      "y4    7.501\n",
      "dtype: float64\n"
     ]
    }
   ],
   "source": [
    "# Print the mean of X and Y\n",
    "print(np.round(df.mean(), decimals=3))"
   ]
  },
  {
   "cell_type": "code",
   "execution_count": 119,
   "metadata": {},
   "outputs": [
    {
     "name": "stdout",
     "output_type": "stream",
     "text": [
      "x1    3.317\n",
      "y1    2.032\n",
      "x2    3.317\n",
      "y2    2.032\n",
      "x3    3.317\n",
      "y3    2.030\n",
      "x4    3.317\n",
      "y4    2.031\n",
      "dtype: float64\n"
     ]
    }
   ],
   "source": [
    "# Print the standard deviation of X and Y\n",
    "print(np.round(df.std(), decimals=3))"
   ]
  },
  {
   "cell_type": "code",
   "execution_count": 121,
   "metadata": {},
   "outputs": [
    {
     "name": "stdout",
     "output_type": "stream",
     "text": [
      "x1    11.000\n",
      "y1     4.127\n",
      "x2    11.000\n",
      "y2     4.128\n",
      "x3    11.000\n",
      "y3     4.123\n",
      "x4    11.000\n",
      "y4     4.123\n",
      "dtype: float64\n"
     ]
    }
   ],
   "source": [
    "# Print the variance of X and Y\n",
    "print(np.round(df.var(), decimals=3))"
   ]
  },
  {
   "cell_type": "code",
   "execution_count": 122,
   "metadata": {},
   "outputs": [
    {
     "name": "stdout",
     "output_type": "stream",
     "text": [
      "       x1     y1     x2     y2     x3     y3     x4     y4\n",
      "x1  1.000  0.816  1.000  0.816  1.000  0.816 -0.500 -0.314\n",
      "y1  0.816  1.000  0.816  0.750  0.816  0.469 -0.529 -0.489\n",
      "x2  1.000  0.816  1.000  0.816  1.000  0.816 -0.500 -0.314\n",
      "y2  0.816  0.750  0.816  1.000  0.816  0.588 -0.718 -0.478\n",
      "x3  1.000  0.816  1.000  0.816  1.000  0.816 -0.500 -0.314\n",
      "y3  0.816  0.469  0.816  0.588  0.816  1.000 -0.345 -0.155\n",
      "x4 -0.500 -0.529 -0.500 -0.718 -0.500 -0.345  1.000  0.817\n",
      "y4 -0.314 -0.489 -0.314 -0.478 -0.314 -0.155  0.817  1.000\n"
     ]
    }
   ],
   "source": [
    "print(np.round(df.corr(), decimals=3))"
   ]
  },
  {
   "cell_type": "code",
   "execution_count": 123,
   "metadata": {},
   "outputs": [
    {
     "data": {
      "text/html": [
       "<div>\n",
       "<style>\n",
       "    .dataframe thead tr:only-child th {\n",
       "        text-align: right;\n",
       "    }\n",
       "\n",
       "    .dataframe thead th {\n",
       "        text-align: left;\n",
       "    }\n",
       "\n",
       "    .dataframe tbody tr th {\n",
       "        vertical-align: top;\n",
       "    }\n",
       "</style>\n",
       "<table border=\"1\" class=\"dataframe\">\n",
       "  <thead>\n",
       "    <tr>\n",
       "      <th></th>\n",
       "      <th colspan=\"8\" halign=\"left\">x</th>\n",
       "      <th colspan=\"8\" halign=\"left\">y</th>\n",
       "    </tr>\n",
       "    <tr>\n",
       "      <th></th>\n",
       "      <th>count</th>\n",
       "      <th>mean</th>\n",
       "      <th>std</th>\n",
       "      <th>min</th>\n",
       "      <th>25%</th>\n",
       "      <th>50%</th>\n",
       "      <th>75%</th>\n",
       "      <th>max</th>\n",
       "      <th>count</th>\n",
       "      <th>mean</th>\n",
       "      <th>std</th>\n",
       "      <th>min</th>\n",
       "      <th>25%</th>\n",
       "      <th>50%</th>\n",
       "      <th>75%</th>\n",
       "      <th>max</th>\n",
       "    </tr>\n",
       "    <tr>\n",
       "      <th>dataset</th>\n",
       "      <th></th>\n",
       "      <th></th>\n",
       "      <th></th>\n",
       "      <th></th>\n",
       "      <th></th>\n",
       "      <th></th>\n",
       "      <th></th>\n",
       "      <th></th>\n",
       "      <th></th>\n",
       "      <th></th>\n",
       "      <th></th>\n",
       "      <th></th>\n",
       "      <th></th>\n",
       "      <th></th>\n",
       "      <th></th>\n",
       "      <th></th>\n",
       "    </tr>\n",
       "  </thead>\n",
       "  <tbody>\n",
       "    <tr>\n",
       "      <th>I</th>\n",
       "      <td>11.0</td>\n",
       "      <td>9.0</td>\n",
       "      <td>3.316625</td>\n",
       "      <td>4.0</td>\n",
       "      <td>6.5</td>\n",
       "      <td>9.0</td>\n",
       "      <td>11.5</td>\n",
       "      <td>14.0</td>\n",
       "      <td>11.0</td>\n",
       "      <td>7.500909</td>\n",
       "      <td>2.031568</td>\n",
       "      <td>4.26</td>\n",
       "      <td>6.315</td>\n",
       "      <td>7.58</td>\n",
       "      <td>8.57</td>\n",
       "      <td>10.84</td>\n",
       "    </tr>\n",
       "    <tr>\n",
       "      <th>II</th>\n",
       "      <td>11.0</td>\n",
       "      <td>9.0</td>\n",
       "      <td>3.316625</td>\n",
       "      <td>4.0</td>\n",
       "      <td>6.5</td>\n",
       "      <td>9.0</td>\n",
       "      <td>11.5</td>\n",
       "      <td>14.0</td>\n",
       "      <td>11.0</td>\n",
       "      <td>7.500909</td>\n",
       "      <td>2.031657</td>\n",
       "      <td>3.10</td>\n",
       "      <td>6.695</td>\n",
       "      <td>8.14</td>\n",
       "      <td>8.95</td>\n",
       "      <td>9.26</td>\n",
       "    </tr>\n",
       "    <tr>\n",
       "      <th>III</th>\n",
       "      <td>11.0</td>\n",
       "      <td>9.0</td>\n",
       "      <td>3.316625</td>\n",
       "      <td>4.0</td>\n",
       "      <td>6.5</td>\n",
       "      <td>9.0</td>\n",
       "      <td>11.5</td>\n",
       "      <td>14.0</td>\n",
       "      <td>11.0</td>\n",
       "      <td>7.500000</td>\n",
       "      <td>2.030424</td>\n",
       "      <td>5.39</td>\n",
       "      <td>6.250</td>\n",
       "      <td>7.11</td>\n",
       "      <td>7.98</td>\n",
       "      <td>12.74</td>\n",
       "    </tr>\n",
       "    <tr>\n",
       "      <th>IV</th>\n",
       "      <td>11.0</td>\n",
       "      <td>9.0</td>\n",
       "      <td>3.316625</td>\n",
       "      <td>8.0</td>\n",
       "      <td>8.0</td>\n",
       "      <td>8.0</td>\n",
       "      <td>8.0</td>\n",
       "      <td>19.0</td>\n",
       "      <td>11.0</td>\n",
       "      <td>7.500909</td>\n",
       "      <td>2.030579</td>\n",
       "      <td>5.25</td>\n",
       "      <td>6.170</td>\n",
       "      <td>7.04</td>\n",
       "      <td>8.19</td>\n",
       "      <td>12.50</td>\n",
       "    </tr>\n",
       "  </tbody>\n",
       "</table>\n",
       "</div>"
      ],
      "text/plain": [
       "            x                                               y            \\\n",
       "        count mean       std  min  25%  50%   75%   max count      mean   \n",
       "dataset                                                                   \n",
       "I        11.0  9.0  3.316625  4.0  6.5  9.0  11.5  14.0  11.0  7.500909   \n",
       "II       11.0  9.0  3.316625  4.0  6.5  9.0  11.5  14.0  11.0  7.500909   \n",
       "III      11.0  9.0  3.316625  4.0  6.5  9.0  11.5  14.0  11.0  7.500000   \n",
       "IV       11.0  9.0  3.316625  8.0  8.0  8.0   8.0  19.0  11.0  7.500909   \n",
       "\n",
       "                                                   \n",
       "              std   min    25%   50%   75%    max  \n",
       "dataset                                            \n",
       "I        2.031568  4.26  6.315  7.58  8.57  10.84  \n",
       "II       2.031657  3.10  6.695  8.14  8.95   9.26  \n",
       "III      2.030424  5.39  6.250  7.11  7.98  12.74  \n",
       "IV       2.030579  5.25  6.170  7.04  8.19  12.50  "
      ]
     },
     "execution_count": 123,
     "metadata": {},
     "output_type": "execute_result"
    }
   ],
   "source": [
    "anscombe = sns.load_dataset(\"anscombe\")\n",
    "anscombe.groupby(\"dataset\").describe()"
   ]
  },
  {
   "cell_type": "code",
   "execution_count": 124,
   "metadata": {},
   "outputs": [
    {
     "data": {
      "image/png": "[encoded data removed]",
      "text/plain": [
       "<matplotlib.figure.Figure at 0x23e108f7ef0>"
      ]
     },
     "metadata": {},
     "output_type": "display_data"
    },
    {
     "data": {
      "image/png": "[encoded data removed]",
      "text/plain": [
       "<matplotlib.figure.Figure at 0x23e1091db38>"
      ]
     },
     "metadata": {},
     "output_type": "display_data"
    },
    {
     "data": {
      "image/png": "[encoded data removed]",
      "text/plain": [
       "<matplotlib.figure.Figure at 0x23e108f5208>"
      ]
     },
     "metadata": {},
     "output_type": "display_data"
    },
    {
     "data": {
      "image/png": "[encoded data removed]",
      "text/plain": [
       "<matplotlib.figure.Figure at 0x23e109cb6a0>"
      ]
     },
     "metadata": {},
     "output_type": "display_data"
    }
   ],
   "source": [
    "# Show the results of a linear regression within each dataset\n",
    "data = sns.load_dataset(\"anscombe\")\n",
    "for data_set in anscombe.dataset.unique():\n",
    "     df = data.query(\"dataset == '{}'\".format(data_set))\n",
    "     slope, intercept, r_val, p_val, slope_std_error = stats.linregress(x=df.x, y=df.y)\n",
    "     sns.lmplot(x=\"x\", y=\"y\", data=df);\n",
    "     plt.title(\"Data set {}: y={:.2f}x+{:.2f} (p: {:.2f}, R^2: {:.2f})\".format(data_set, slope, intercept, p_val, r_val))\n",
    "     plt.show()\n"
   ]
  },
  {
   "cell_type": "markdown",
   "metadata": {
    "collapsed": true
   },
   "source": [
    "Anscombe's quartet comprises four datasets that have nearly identical simple descriptive statistics, yet appear very different when graphed.Each dataset consists of eleven (x,y) points (wiki)"
   ]
  },
  {
   "cell_type": "markdown",
   "metadata": {},
   "source": [
    "## Linear Regression"
   ]
  },
  {
   "cell_type": "markdown",
   "metadata": {},
   "source": [
    "Dataset 1 is the picture drawn by the mind's eye when a simple linear regression equation is reported. Yet, the same summary statistics apply to dataset 2, which shows a perfect curvilinear relation, and to dataset 3, which shows a perfect linear relation except for a single outlier.\n",
    "\n",
    "The summary statistics also apply to datset 4, which is the most troublesome. Datasets 2 and 3 clearly call the straight line relation into question. Dataset 4 does not. A straight line may be appropriate in the fourth case. However, the regression equation is determined entirely by the single observation at x=19. Paraphrasing Anscombe, we need to know the relation between y and x and the special contribution of the observation at x=19 to that relation. (jerry)"
   ]
  },
  {
   "cell_type": "markdown",
   "metadata": {},
   "source": [
    "Anscombe who helped computerize statistical analyses while seeking to avoid flawed interpretations of such data. In using computers to analyze statistical data, he drew on his expertise in the sampling of inspections for industrial quality control, the philosophical foundations of probability and the analysis of variance. (NY Times)\n",
    "\n"
   ]
  },
  {
   "cell_type": "markdown",
   "metadata": {
    "collapsed": true
   },
   "source": [
    "1. https://www.vernier.com/innovate/anscombes-quartet/"
   ]
  },
  {
   "cell_type": "markdown",
   "metadata": {
    "collapsed": true
   },
   "source": [
    "2.http://www.jerrydallal.com/lhsp/anscombe/"
   ]
  },
  {
   "cell_type": "markdown",
   "metadata": {
    "collapsed": true
   },
   "source": [
    "3. https://rstudio-pubs-static.s3.amazonaws.com/52381_36ec82827e4b476fb968d9143aec7c4f.html"
   ]
  },
  {
   "cell_type": "markdown",
   "metadata": {
    "collapsed": true
   },
   "source": [
    "4. http://natalia.dbsdataprojects.com/2016/02/29/anscombes-quartet/"
   ]
  },
  {
   "cell_type": "markdown",
   "metadata": {
    "collapsed": true
   },
   "source": [
    "5. https://vknight.org/unpeudemath/mathematics/2016/10/29/anscombes-quartet-variability-and-ciw.html"
   ]
  },
  {
   "cell_type": "code",
   "execution_count": null,
   "metadata": {
    "collapsed": true
   },
   "outputs": [],
   "source": []
  },
  {
   "cell_type": "code",
   "execution_count": null,
   "metadata": {
    "collapsed": true
   },
   "outputs": [],
   "source": []
  },
  {
   "cell_type": "code",
   "execution_count": null,
   "metadata": {
    "collapsed": true
   },
   "outputs": [],
   "source": []
  }
 ],
 "metadata": {
  "kernelspec": {
   "display_name": "Python 3",
   "language": "python",
   "name": "python3"
  },
  "language_info": {
   "codemirror_mode": {
    "name": "ipython",
    "version": 3
   },
   "file_extension": ".py",
   "mimetype": "text/x-python",
   "name": "python",
   "nbconvert_exporter": "python",
   "pygments_lexer": "ipython3",
   "version": "3.6.3"
  }
 },
 "nbformat": 4,
 "nbformat_minor": 2
}
